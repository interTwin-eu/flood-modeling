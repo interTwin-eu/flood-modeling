{
 "cells": [
  {
   "cell_type": "markdown",
   "metadata": {},
   "source": [
    "# Import"
   ]
  },
  {
   "cell_type": "code",
   "execution_count": 1,
   "metadata": {},
   "outputs": [],
   "source": [
    "import os\n",
    "import matplotlib.pyplot as plt\n",
    "plt.close('all')\n",
    "import dfm_tools as dfmt\n",
    "import hydrolib.core.dflowfm as hcdfm \n",
    "import xarray as xr\n",
    "import pandas as pd\n",
    "import numpy as np\n",
    "import contextily as ctx\n",
    "\n",
    "import solara\n",
    "import solara.lab\n",
    "from ipyleaflet import Map, basemaps\n",
    "import datetime\n",
    "from pathlib import Path\n"
   ]
  },
  {
   "cell_type": "markdown",
   "metadata": {},
   "source": [
    "# Initial set-ups, definitions, etc."
   ]
  },
  {
   "cell_type": "code",
   "execution_count": 2,
   "metadata": {},
   "outputs": [],
   "source": [
    "m = solara.reactive(Map(center=(18.125, 106.325), zoom=10, scroll_wheel_zoom=True, \n",
    "                        basemap=basemaps.OpenStreetMap.Mapnik))\n",
    "def reset_map():\n",
    "    m.set(Map(center=(lat_min.value+(lat_max.value-lat_min.value)*0.5, lon_min.value+(lon_max.value-lon_min.value)*0.5), \n",
    "              zoom=10, scroll_wheel_zoom=True, basemap=basemaps.OpenStreetMap.Mapnik))\n"
   ]
  },
  {
   "cell_type": "markdown",
   "metadata": {},
   "source": [
    "# User Input"
   ]
  },
  {
   "cell_type": "markdown",
   "metadata": {},
   "source": [
    "NEW:"
   ]
  },
  {
   "cell_type": "code",
   "execution_count": 4,
   "metadata": {},
   "outputs": [
    {
     "data": {
      "application/vnd.jupyter.widget-view+json": {
       "model_id": "f07a154494b1432e81a844b215923072",
       "version_major": 2,
       "version_minor": 0
      },
      "text/html": [
       "Cannot show widget. You probably want to rerun the code cell above (<i>Click in the code cell, and press Shift+Enter <kbd>⇧</kbd>+<kbd>↩</kbd></i>)."
      ],
      "text/plain": [
       "Cannot show ipywidgets in text"
      ]
     },
     "metadata": {},
     "output_type": "display_data"
    }
   ],
   "source": [
    "####################################### User Input ########################################\n",
    "model_name = solara.reactive(\"Model Name\")\n",
    "continuous_update = solara.reactive(True)\n",
    "\n",
    "model_resolution_options = [\"0.05\", \"0.5\"]\n",
    "dxy = solara.reactive(\"0.5\")\n",
    "\n",
    "lat_min = solara.reactive(0.0); lat_max = solara.reactive(0.0); lon_min = solara.reactive(0.0); lon_max = solara.reactive(0.0)\n",
    "\n",
    "date_min = solara.reactive(datetime.date(2022, 11, 1))\n",
    "date_max = solara.reactive(datetime.date(2022, 11, 3))\n",
    "ref_date = solara.reactive(datetime.date(2022, 1, 1))\n",
    "\n",
    "dir_output = solara.reactive(\"C:\\\\\") # os.path.abspath(f'./{model_name}_model')\n",
    "def makedir():\n",
    "    dir_path = Path(dir_output.value)  \n",
    "    os.makedirs(dir_path, exist_ok=True)\n",
    "    dir_output_data = dir_path / 'data'\n",
    "    os.makedirs(dir_output_data, exist_ok=True)\n",
    "overwrite = False # used for downloading of forcing data. Always set to True when changing the domain\n",
    "crs = 'EPSG:4326' # coordinate reference system\n",
    "\n",
    "# ----------------------------------------------------------------------------------------------------\n",
    "\n",
    "\n",
    "@solara.component\n",
    "def Tab_User_Input():\n",
    "    solara.use_effect(reset_map, dependencies=[model_name.value])\n",
    "    with solara.Card(\"User Input\", style={\"width\": \"100%\", \"padding\": \"10px\"}):\n",
    "        solara.Markdown(\"\"\"**Note to the user**: In this notebook we use publicly available data \n",
    "                        from Copernicus Programme of the European Union. To access this data you \n",
    "                        need to create accounts at \n",
    "                        [Copernicus Marine Service](https://data.marine.copernicus.eu/register)\n",
    "                        and the [Climate Data Store](https://cds.climate.copernicus.eu/profile).\n",
    "                        Do not forget to accept the CDS license agreement.\"\"\")\n",
    "        solara.InputText(\"Model Name\", value=model_name, continuous_update=continuous_update.value)\n",
    "        solara.InputText(\"Output directory\", value=dir_output, continuous_update=True) # --------- Only works for now as input text, file explorer not successful yet\n",
    "        solara.Button(label=\"Select/Create directory\",on_click=makedir)\n",
    "\n",
    "        solara.Markdown(\"Area of Model & Resolution:\")\n",
    "        solara.InputFloat(\"Lat minimum\", value=lat_min, continuous_update=continuous_update.value)\n",
    "        solara.InputFloat(\"Lat maximum\", value=lat_max, continuous_update=continuous_update.value)\n",
    "        solara.InputFloat(\"Lon minimum\", value=lon_min, continuous_update=continuous_update.value)\n",
    "        solara.InputFloat(\"Lon maximum\", value=lon_max, continuous_update=continuous_update.value)\n",
    "        solara.Select(label=\"Model Resolution\", value=dxy, values=model_resolution_options)\n",
    "\n",
    "        solara.Markdown(\"Date selection:\")\n",
    "        solara.Text(\"Select min date:\"); solara.lab.InputDate(date_min)\n",
    "        solara.Text(\"Select max date:\"); solara.lab.InputDate(date_max)\n",
    "        solara.Text(\"Select reference date:\"); solara.lab.InputDate(ref_date)\n",
    "        if date_max.value < date_min.value:\n",
    "            solara.Markdown(\"**Warning**: The end date cannot be earlier than the start date.\", \n",
    "                            style={\"color\": \"red\"})\n",
    "            \n",
    "Tab_User_Input()\n",
    "\n"
   ]
  },
  {
   "cell_type": "code",
   "execution_count": null,
   "metadata": {},
   "outputs": [],
   "source": [
    "# Outputs I might need later:\n",
    "# model_name.value # --> model name\n",
    "# dir_output.value # --> path for output; looks different when doing print() --> MIGHT NEED SPECIAL ATTENTION/HANDLING LATER!!!!\n",
    "# lat_min.value # --> lat_min; same with lat_max and lon_min, lon_max\n",
    "# float(dxy.value) # --> resolution as number\n",
    "# date_min.value.strftime(\"%Y-%m-%d\") # --> date min in approriate format\n",
    "# date_max.value.strftime(\"%Y-%m-%d\") # --> date max in approriate format\n",
    "# ref_date.value.strftime(\"%Y-%m-%d\") # --> ref date in approriate format"
   ]
  },
  {
   "cell_type": "markdown",
   "metadata": {},
   "source": [
    "# Grid Generation and Refinement"
   ]
  },
  {
   "cell_type": "code",
   "execution_count": null,
   "metadata": {},
   "outputs": [],
   "source": [
    "#continue here\n",
    "\n",
    "# generate spherical regular grid\n",
    "mk_object = dfmt.make_basegrid(lon_min.value, lon_max.value, lat_min.value, lat_max.value, dx=dxy, dy=dxy, crs=crs)\n",
    "\n",
    "\n",
    "# generate plifile from grid extent and coastlines\n",
    "bnd_gdf = dfmt.generate_bndpli_cutland(mk=mk_object, res='h', buffer=0.01)\n",
    "bnd_gdf_interp = dfmt.interpolate_bndpli(bnd_gdf, res=0.03)\n",
    "pli_polyfile = dfmt.geodataframe_to_PolyFile(bnd_gdf_interp, name=f'{model_name.value}_bnd')\n",
    "poly_file = os.path.join(dir_output, f'{model_name}.pli')\n",
    "pli_polyfile.save(poly_file)"
   ]
  },
  {
   "cell_type": "markdown",
   "metadata": {},
   "source": [
    "# Putting everything together"
   ]
  },
  {
   "cell_type": "markdown",
   "metadata": {},
   "source": [
    "put code of single tabs in own code cell, per tab --> to have it more structured!"
   ]
  },
  {
   "cell_type": "code",
   "execution_count": null,
   "metadata": {},
   "outputs": [],
   "source": [
    "\n",
    "\n",
    "\n",
    "###########################################################################################\n",
    "\n",
    "@solara.component\n",
    "def Tab2():\n",
    "    \n",
    "    with solara.Card(\"xxx2\", style={\"width\": \"100%\", \"padding\": \"10px\"}):\n",
    "        solara.Text(\"text\")\n",
    "\n",
    "@solara.component\n",
    "def Tab3():\n",
    "    \n",
    "    with solara.Card(\"xxx3\", style={\"width\": \"100%\", \"padding\": \"10px\"}):\n",
    "        solara.Text(\"text\")\n",
    "\n",
    "\n",
    "@solara.component\n",
    "def Tabxxx():\n",
    "    \n",
    "    with solara.Card(\"xxx\", style={\"width\": \"100%\", \"padding\": \"10px\"}):\n",
    "        solara.Text(\"text\")\n",
    "\n",
    "###########################################################################################\n",
    "###########################################################################################\n",
    "###########################################################################################\n",
    "###########################################################################################\n",
    "###########################################################################################\n",
    "selected_tab = solara.reactive('UserInput') \n",
    "@solara.component\n",
    "def SettingsTabs():\n",
    "    with solara.Column(style={\"width\": \"100%\", \"align-items\": \"center\"}):\n",
    "        with solara.Row(gap=\"10px\", style={\"justify-content\": \"flex-start\", \"width\": \"80%\"}):\n",
    "            solara.Button(\"User Input\", on_click=lambda: selected_tab.set('UserInput'))\n",
    "            solara.Button(\"2\", on_click=lambda: selected_tab.set('2'))\n",
    "            solara.Button(\"3\", on_click=lambda: selected_tab.set('3'))\n",
    "        with solara.Row(gap=\"10px\", style={\"justify-content\": \"flex-start\", \"width\": \"80%\"}):\n",
    "            solara.Button(\"xxx\", on_click=lambda: selected_tab.set('xxx'))\n",
    " \n",
    "    if selected_tab.value == 'UserInput':\n",
    "        Tab_User_Input()\n",
    "    elif selected_tab.value == '2':\n",
    "        Tab2()\n",
    "    elif selected_tab.value == '3':\n",
    "        Tab3()\n",
    "    elif selected_tab.value == 'xxx':\n",
    "        Tabxxx()\n",
    "\n",
    "@solara.component\n",
    "def Page():\n",
    "    with solara.Columns():\n",
    "        with solara.Column(style={\"width\": \"70%\", \"min-width\": \"650px\"}):\n",
    "            display(m.value)\n",
    "\n",
    "        with solara.Column(style={\"width\": \"30%\", \"min-width\": \"500px\"}):\n",
    "            SettingsTabs()\n",
    "\n",
    "Page()"
   ]
  }
 ],
 "metadata": {
  "kernelspec": {
   "display_name": "IRISCC",
   "language": "python",
   "name": "python3"
  },
  "language_info": {
   "codemirror_mode": {
    "name": "ipython",
    "version": 3
   },
   "file_extension": ".py",
   "mimetype": "text/x-python",
   "name": "python",
   "nbconvert_exporter": "python",
   "pygments_lexer": "ipython3",
   "version": "3.12.8"
  }
 },
 "nbformat": 4,
 "nbformat_minor": 4
}
